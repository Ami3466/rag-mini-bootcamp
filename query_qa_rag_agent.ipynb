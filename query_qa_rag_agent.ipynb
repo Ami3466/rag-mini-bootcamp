{
 "cells": [
  {
   "cell_type": "markdown",
   "metadata": {},
   "source": [
    "### Imports & Global Definitions"
   ]
  },
  {
   "cell_type": "code",
   "execution_count": 1,
   "metadata": {},
   "outputs": [],
   "source": [
    "from agents import NaiveQaRagAgent\n",
    "from IPython.display import Markdown\n",
    "\n",
    "def display_md(content):\n",
    "  display(Markdown(content))\n",
    "\n",
    "doc_uri = \"https://arxiv.org/html/2312.10997v5\"\n"
   ]
  },
  {
   "cell_type": "code",
   "execution_count": 2,
   "metadata": {},
   "outputs": [
    {
     "data": {
      "text/markdown": [
       "Naive RAG is the earliest methodology in the RAG research paradigm, following a traditional process of indexing, retrieval, and generation within a \"Retrieve-Read\" framework. It involves cleaning and extracting raw data, segmenting text into smaller chunks, encoding them into vector representations, and storing them in a vector database for efficient similarity searches during retrieval. Naive RAG represents the initial stage of RAG development before the advancements seen in Advanced RAG and Modular RAG."
      ],
      "text/plain": [
       "<IPython.core.display.Markdown object>"
      ]
     },
     "metadata": {},
     "output_type": "display_data"
    }
   ],
   "source": [
    "qa_agent = NaiveQaRagAgent(use_wcs_vectorizer=True)\n",
    "qa_agent.index(doc_uri)\n",
    "question = \"What is naive RAG?\"\n",
    "completion = qa_agent.query(question)\n",
    "display_md(completion)"
   ]
  },
  {
   "cell_type": "code",
   "execution_count": 3,
   "metadata": {},
   "outputs": [
    {
     "ename": "TypeError",
     "evalue": "WcsClientAdapter.insert_text_split_vectors() takes 1 positional argument but 2 were given",
     "output_type": "error",
     "traceback": [
      "\u001b[0;31m---------------------------------------------------------------------------\u001b[0m",
      "\u001b[0;31mTypeError\u001b[0m                                 Traceback (most recent call last)",
      "Cell \u001b[0;32mIn[3], line 2\u001b[0m\n\u001b[1;32m      1\u001b[0m qa_agent \u001b[38;5;241m=\u001b[39m NaiveQaRagAgent(use_wcs_vectorizer\u001b[38;5;241m=\u001b[39m\u001b[38;5;28;01mFalse\u001b[39;00m)\n\u001b[0;32m----> 2\u001b[0m \u001b[43mqa_agent\u001b[49m\u001b[38;5;241;43m.\u001b[39;49m\u001b[43mindex\u001b[49m\u001b[43m(\u001b[49m\u001b[43mdoc_uri\u001b[49m\u001b[43m)\u001b[49m\n\u001b[1;32m      3\u001b[0m question \u001b[38;5;241m=\u001b[39m \u001b[38;5;124m\"\u001b[39m\u001b[38;5;124mWhat is naive RAG?\u001b[39m\u001b[38;5;124m\"\u001b[39m\n\u001b[1;32m      4\u001b[0m completion \u001b[38;5;241m=\u001b[39m qa_agent\u001b[38;5;241m.\u001b[39mquery(question)\n",
      "File \u001b[0;32m~/src/rag-mini-bootcamp/agents.py:30\u001b[0m, in \u001b[0;36mNaiveQaRagAgent.index\u001b[0;34m(self, html_uri)\u001b[0m\n\u001b[1;32m     29\u001b[0m \u001b[38;5;28;01mdef\u001b[39;00m \u001b[38;5;21mindex\u001b[39m(\u001b[38;5;28mself\u001b[39m, html_uri: \u001b[38;5;28mstr\u001b[39m) \u001b[38;5;241m-\u001b[39m\u001b[38;5;241m>\u001b[39m \u001b[38;5;28;01mNone\u001b[39;00m:\n\u001b[0;32m---> 30\u001b[0m     \u001b[38;5;28;43mself\u001b[39;49m\u001b[38;5;241;43m.\u001b[39;49m\u001b[43m_indexer\u001b[49m\u001b[38;5;241;43m.\u001b[39;49m\u001b[43mindex\u001b[49m\u001b[43m(\u001b[49m\u001b[43mhtml_uri\u001b[49m\u001b[43m)\u001b[49m\n",
      "File \u001b[0;32m~/src/rag-mini-bootcamp/indexers.py:23\u001b[0m, in \u001b[0;36mNaiveIndexer.index\u001b[0;34m(self, doc_uri)\u001b[0m\n\u001b[1;32m     21\u001b[0m   \u001b[38;5;28mself\u001b[39m\u001b[38;5;241m.\u001b[39mindex_with_wcs_vectorizer(doc_uri)\n\u001b[1;32m     22\u001b[0m \u001b[38;5;28;01melse\u001b[39;00m:\n\u001b[0;32m---> 23\u001b[0m   \u001b[38;5;28;43mself\u001b[39;49m\u001b[38;5;241;43m.\u001b[39;49m\u001b[43mindex_with_vectors\u001b[49m\u001b[43m(\u001b[49m\u001b[43mdoc_uri\u001b[49m\u001b[43m)\u001b[49m\n",
      "File \u001b[0;32m~/src/rag-mini-bootcamp/indexers.py:44\u001b[0m, in \u001b[0;36mNaiveIndexer.index_with_vectors\u001b[0;34m(self, doc_uri)\u001b[0m\n\u001b[1;32m     42\u001b[0m text_split_vectors \u001b[38;5;241m=\u001b[39m \u001b[38;5;28mself\u001b[39m\u001b[38;5;241m.\u001b[39m_vectorize(text_splits)\n\u001b[1;32m     43\u001b[0m WcsClientAdapter\u001b[38;5;241m.\u001b[39msetup_collection(use_wcs_vectorizer\u001b[38;5;241m=\u001b[39m\u001b[38;5;28;01mFalse\u001b[39;00m)\n\u001b[0;32m---> 44\u001b[0m \u001b[43mWcsClientAdapter\u001b[49m\u001b[38;5;241;43m.\u001b[39;49m\u001b[43minsert_text_split_vectors\u001b[49m\u001b[43m(\u001b[49m\u001b[43mtext_splits\u001b[49m\u001b[43m,\u001b[49m\u001b[43m \u001b[49m\u001b[43mtext_split_vectors\u001b[49m\u001b[43m)\u001b[49m\n",
      "\u001b[0;31mTypeError\u001b[0m: WcsClientAdapter.insert_text_split_vectors() takes 1 positional argument but 2 were given"
     ]
    }
   ],
   "source": [
    "qa_agent = NaiveQaRagAgent(use_wcs_vectorizer=False)\n",
    "qa_agent.index(doc_uri)\n",
    "question = \"What is naive RAG?\"\n",
    "completion = qa_agent.query(question)\n",
    "display_md(completion)"
   ]
  }
 ],
 "metadata": {
  "kernelspec": {
   "display_name": "venv",
   "language": "python",
   "name": "python3"
  },
  "language_info": {
   "codemirror_mode": {
    "name": "ipython",
    "version": 3
   },
   "file_extension": ".py",
   "mimetype": "text/x-python",
   "name": "python",
   "nbconvert_exporter": "python",
   "pygments_lexer": "ipython3",
   "version": "3.12.3"
  }
 },
 "nbformat": 4,
 "nbformat_minor": 2
}
