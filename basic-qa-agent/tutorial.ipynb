{
 "cells": [
  {
   "cell_type": "markdown",
   "metadata": {},
   "source": [
    "```\n",
    "Intro\n",
    "    Purpose\n",
    "        Toby: take risks to make money\n",
    "        Marius: minimize risks of losing money\n",
    "    Goals\n",
    "        Understand the basic theory of RAG\n",
    "        Cut through the jargon on LlamaIndex, Langchain, and other frameworks\n",
    "        Understand the accepted architectural paradigm\n",
    "        Understand how to optimize an MVP\n",
    "    Three Pain Points of LLMs\n",
    "Dev Machine Setup\n",
    "    Install VSCode\n",
    "    Install Git\n",
    "    Clone this Repo\n",
    "    Install Python\n",
    "    Install Python Venv\n",
    "    Follow the Setup Instructions in README.md\n",
    "Cloud Services Setup\n",
    "    Create OpenAI Account\n",
    "    Add $5 of Credit\n",
    "    Create an OpenAI API Key\n",
    "    Create Weaviate Cloud Services (WCS) Sandbox\n",
    "    Add WCS URL and API key to .env\n",
    "Goal: NaiveQaAgent\n",
    "Indexer\n",
    "    Cheater Example\n",
    "    Load\n",
    "    Preprocess\n",
    "    Split Text\n",
    "    Create Embeddings\n",
    "    Insert Chunks\n",
    "    Sanity Check: Count Entries\n",
    "    Optimizations\n",
    "Retriever\n",
    "    Cheater Example\n",
    "    Vectorize Query\n",
    "    Retrieve\n",
    "    Optimizations\n",
    "Generator\n",
    "    Prompt Engineering\n",
    "    Generation\n",
    "    Optimizations\n",
    "RAG Agent\n",
    "    Queries that Work\n",
    "    Queries that Don't Work\n",
    "        Summarization\n",
    "        Tables\n",
    "        Images\n",
    "        Citations\n",
    "    Evaluating RAG Quality\n",
    "        Quality is Intrinsic to User & Use Case\n",
    "        Building ChatGPT is Hard; Building Narrow Intelligence is Easier\n",
    "            ChatGPT isn't good at domain-specific tasks\n",
    "            Easiest Place to Optimize Quality is in Pre-Sales\n",
    "            Intents, Size of Data, Multimodality of Data, Heterogenuity of Data\n",
    "            Increasing Customer Deal Commit --> Harder to achieve quality --> Optimizing Post-Sales Process\n",
    "            ML Solutions are Harder than Traditional Software Solutions\n",
    "```"
   ]
  },
  {
   "cell_type": "code",
   "execution_count": null,
   "metadata": {},
   "outputs": [],
   "source": []
  }
 ],
 "metadata": {
  "kernelspec": {
   "display_name": "venv",
   "language": "python",
   "name": "python3"
  },
  "language_info": {
   "name": "python",
   "version": "3.12.3"
  }
 },
 "nbformat": 4,
 "nbformat_minor": 2
}
